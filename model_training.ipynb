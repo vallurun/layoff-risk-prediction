{
 "cells": [
  {
   "cell_type": "code",
   "execution_count": null,
   "id": "c67dc4f8-6b3b-4802-92ce-bb4c43999052",
   "metadata": {},
   "outputs": [],
   "source": [
    "# model_training.ipynb\n",
    "\n",
    "import pandas as pd\n",
    "from sklearn.linear_model import LinearRegression\n",
    "import pickle\n",
    "\n",
    "# Load sample data\n",
    "df = pd.read_csv('data/sample_data.csv')\n",
    "\n",
    "# Example: X = industry_code, state_code, unemployment_rate\n",
    "X = df[['industry_code', 'state_code', 'unemployment_rate']]\n",
    "y = df['layoff_risk_score']\n",
    "\n",
    "# Train model\n",
    "model = LinearRegression()\n",
    "model.fit(X, y)\n",
    "\n",
    "# Save model\n",
    "pickle.dump(model, open('layoff_model.pkl', 'wb'))\n"
   ]
  }
 ],
 "metadata": {
  "kernelspec": {
   "display_name": "Python 3 (ipykernel)",
   "language": "python",
   "name": "python3"
  },
  "language_info": {
   "codemirror_mode": {
    "name": "ipython",
    "version": 3
   },
   "file_extension": ".py",
   "mimetype": "text/x-python",
   "name": "python",
   "nbconvert_exporter": "python",
   "pygments_lexer": "ipython3",
   "version": "3.11.5"
  }
 },
 "nbformat": 4,
 "nbformat_minor": 5
}
